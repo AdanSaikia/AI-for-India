{
  "nbformat": 4,
  "nbformat_minor": 0,
  "metadata": {
    "colab": {
      "provenance": []
    },
    "kernelspec": {
      "name": "python3",
      "display_name": "Python 3"
    },
    "language_info": {
      "name": "python"
    }
  },
  "cells": [
    {
      "cell_type": "code",
      "source": [
        "import numpy as np\n",
        "import tensorflow as tf\n",
        "from tensorflow.keras import layers"
      ],
      "metadata": {
        "id": "CSipIBAOSMPL"
      },
      "execution_count": null,
      "outputs": []
    },
    {
      "cell_type": "code",
      "source": [
        "# Simplified action space (digits 0-9 and signs)\n",
        "actions = ['0','1','2','3','4','5','6','7','8','9', '+', '-']\n",
        "num_actions = len(actions)\n",
        "\n",
        "# Environment with one-hot operator encoding\n",
        "def generate_problem():\n",
        "    a = np.random.randint(0, 10)\n",
        "    b = np.random.randint(0, 10)\n",
        "    op = np.random.choice(['+', '-'])\n",
        "    correct = a + b if op == '+' else a - b\n",
        "    # State: [a/10, b/10, is_addition, is_subtraction]\n",
        "    state = np.array([a/10.0, b/10.0, 1.0 if op == '+' else 0.0, 0.0 if op == '+' else 1.0])\n",
        "    return state, correct"
      ],
      "metadata": {
        "id": "aSQdMf2eEl9B"
      },
      "execution_count": null,
      "outputs": []
    },
    {
      "cell_type": "code",
      "source": [
        "model = tf.keras.Sequential([\n",
        "    layers.Dense(8, activation='relu', input_shape=(4,)),\n",
        "    layers.Dense(8, activation='relu'),\n",
        "    layers.Dense(1, activation='relu')\n",
        "])\n",
        "model.compile(optimizer=\"adam\", loss=\"mse\")"
      ],
      "metadata": {
        "id": "0hKmA57eEz-E",
        "outputId": "26ab818f-1a1d-435e-e211-489a5d0167c0",
        "colab": {
          "base_uri": "https://localhost:8080/"
        }
      },
      "execution_count": null,
      "outputs": [
        {
          "output_type": "stream",
          "name": "stderr",
          "text": [
            "/usr/local/lib/python3.11/dist-packages/keras/src/layers/core/dense.py:87: UserWarning: Do not pass an `input_shape`/`input_dim` argument to a layer. When using Sequential models, prefer using an `Input(shape)` object as the first layer in the model instead.\n",
            "  super().__init__(activity_regularizer=activity_regularizer, **kwargs)\n"
          ]
        }
      ]
    },
    {
      "cell_type": "code",
      "source": [
        "# Batched training loop\n",
        "def train(num_episodes=1000):\n",
        "    state, correct = zip(*[generate_problem() for x in range(num_episodes)])\n",
        "    state = np.array(state, dtype=np.float32)  # Shape: (1000, 3)\n",
        "    correct = np.array(correct, dtype=np.float32).reshape(-1, 1)\n",
        "    model.fit(state, correct, epochs=500, verbose=0)\n",
        "\n",
        "train()"
      ],
      "metadata": {
        "id": "7pPRqd_UR6XF"
      },
      "execution_count": null,
      "outputs": []
    },
    {
      "cell_type": "code",
      "source": [
        "import numpy as np\n",
        "\n",
        "def test(num_problems=100):\n",
        "    correct_count = 0\n",
        "\n",
        "    # Generate test problems\n",
        "    state, correct = zip(*[generate_problem() for _ in range(num_problems)])\n",
        "\n",
        "    # Convert state to NumPy array for model input\n",
        "    state = np.array(state, dtype=np.float32)\n",
        "\n",
        "    # Predict answers (already a NumPy array)\n",
        "    predicted_answer = model.predict(state).tolist()  # Convert to Python list\n",
        "\n",
        "    # Compare predicted vs. actual answers\n",
        "    for i in range(len(predicted_answer)):\n",
        "        if round(predicted_answer[i][0]) == int(correct[i]):  # Ensure correct[i] is an integer\n",
        "            correct_count += 1\n",
        "\n",
        "    # Calculate accuracy\n",
        "    accuracy = (correct_count / num_problems) * 100\n",
        "    print(f\"Accuracy: {accuracy:.2f}%\")\n",
        "\n",
        "# Run the test\n",
        "test()\n"
      ],
      "metadata": {
        "colab": {
          "base_uri": "https://localhost:8080/"
        },
        "id": "3q9BqrnyFBE5",
        "outputId": "923d2c5b-c573-4fcb-a94c-f5a65a170e65"
      },
      "execution_count": null,
      "outputs": [
        {
          "output_type": "stream",
          "name": "stdout",
          "text": [
            "\u001b[1m4/4\u001b[0m \u001b[32m━━━━━━━━━━━━━━━━━━━━\u001b[0m\u001b[37m\u001b[0m \u001b[1m0s\u001b[0m 8ms/step \n",
            "Accuracy: 79.00%\n"
          ]
        }
      ]
    },
    {
      "cell_type": "code",
      "source": [],
      "metadata": {
        "id": "5IoeK-X3SkKF"
      },
      "execution_count": null,
      "outputs": []
    }
  ]
}
